import tensorflow as tf
from keras.layers import Dense,Flatten
from keras.models import Model
from keras.applications import MobileNetV3Large,VGG16
from keras.preprocessing.image import ImageDataGenerator
from google.colab import drive
drive.mount('/content/drive')
from glob import glob
import numpy as np
import matplotlib.pyplot as plt
from sklearn.metrics import confusion_matrix, classification_report
## Resize all the images
IMAGE_SIZE = [224,224]
train_path = "/content/drive/MyDrive/Datasets/Projects/Bridge_Cracks_Detection/train"
valid_path = "/content/drive/MyDrive/Datasets/Projects/Bridge_Cracks_Detection/valid"
test_path =  "/content/drive/MyDrive/Datasets/Projects/Bridge_Cracks_Detection/test"
## Add Preprocessing to the front
vgg16 = VGG16(input_shape=IMAGE_SIZE + [3],weights='imagenet',include_top=False)
## Don't train existing weights
for layer in vgg16.layers:
    layer.trainable=False
## Getting Number of Classes
folders = glob("/content/drive/MyDrive/Datasets/Projects/Bridge_Cracks_Detection/train/*")
print(folders,len(folders))
## Add layer
x = Flatten()(vgg16.output)
pred = Dense(2,activation='softmax')(x)
## Create a model object
model = Model(inputs=vgg16.input , outputs=pred)
## Let's compile our model
model.compile(optimizer='adam',
             loss='categorical_crossentropy',
             metrics=['accuracy'])
## View the structure of model
model.summary()
train_datagen = ImageDataGenerator(rescale=1./255,
                                  shear_range=0.2,
                                  zoom_range=0.2,
                                  horizontal_flip=True,
                                  vertical_flip=True,
                                  )


valid_datagen = ImageDataGenerator(rescale=1./255)

test_datagen = ImageDataGenerator(rescale=1./255)
train_set = train_datagen.flow_from_directory(train_path,
                                             batch_size=32,
                                             target_size = (224,224),
                                             class_mode='categorical')

valid_set = valid_datagen.flow_from_directory(valid_path,
                                             batch_size=32,
                                             target_size=(224,224),
                                             class_mode='categorical')

test_set = test_datagen.flow_from_directory(test_path,
                                           batch_size=32,
                                           target_size=(224,224),
                                           class_mode='categorical')
## Fit the Model
result = model.fit(train_set,
                   validation_data=valid_set,
                   epochs=100,
                   steps_per_epoch=len(train_set),
                   validation_steps=len(valid_set),
                   callbacks=[
                        tf.keras.callbacks.EarlyStopping(
            monitor='val_loss',
            patience=3,
            restore_best_weights=True
        )
                   ]
                    )
# loss
plt.plot(result.history['loss'], label='train loss')
plt.plot(result.history['val_loss'], label='val loss')
plt.legend()
plt.show()
# accuracies
plt.plot(result.history['accuracy'], label='train acc')
plt.plot(result.history['val_accuracy'], label='val acc')
plt.legend()
plt.show()
model.save('Bridge_model.h5')
results = model.evaluate(test_set, verbose=0)
loss = results[0]
acc = results[1]

print("    Test Loss: {:.5f}".format(loss))
print("Test Accuracy: {:.2f}%".format(acc * 100))
Y_pred = model.predict(test_set)
y_pred = np.argmax(Y_pred, axis=1)

cm = confusion_matrix(test_set.classes, y_pred)
print(cm)
clr = classification_report(test_set.classes, y_pred, target_names=["NEGATIVE", "POSITIVE"])
print(clr)
